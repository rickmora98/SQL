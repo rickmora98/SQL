{
 "cells": [
  {
   "cell_type": "markdown",
   "id": "af2b9b51",
   "metadata": {},
   "source": [
    "## Employee Salary Analysis <br>\n",
    "\n",
    "**Code by:** &emsp;  Ricardo G. Mora, Jr. 11/13/2021 <br>\n",
    "**Data from:** &emsp;  EmployeeDB (in postgresql)"
   ]
  },
  {
   "cell_type": "code",
   "execution_count": 2,
   "id": "ddc21913",
   "metadata": {},
   "outputs": [],
   "source": [
    "# Dependencies:\n",
    "import pandas as pd\n",
    "import matplotlib.pyplot as plt\n",
    "import numpy as np\n",
    "from sqlalchemy import create_engine"
   ]
  },
  {
   "cell_type": "markdown",
   "id": "d7c33f72",
   "metadata": {},
   "source": [
    "**Before running this cell:** <br>\n",
    "&emsp; **You must manually set your database password here or place it in a file called \"config.py\"**"
   ]
  },
  {
   "cell_type": "code",
   "execution_count": 3,
   "id": "a450d920",
   "metadata": {},
   "outputs": [],
   "source": [
    "# Define name and location of employee database:\n",
    "program = 'postgresql'\n",
    "user = 'postgres'\n",
    "where = 'localhost'\n",
    "database = 'EmployeesDB'\n",
    "\n",
    "# Retrieve database password from config file:\n",
    "from config import password\n",
    "\n",
    "# Manually set password if not contained in a config file:\n",
    "# password = \"\""
   ]
  },
  {
   "cell_type": "code",
   "execution_count": 4,
   "id": "4dcba702",
   "metadata": {},
   "outputs": [],
   "source": [
    "# Set database connection:\n",
    "engine = create_engine(f'{program}://{user}:{password}@{where}/{database}')\n",
    "conn = engine.connect()"
   ]
  },
  {
   "cell_type": "code",
   "execution_count": 5,
   "id": "163614b6",
   "metadata": {},
   "outputs": [
    {
     "data": {
      "text/html": [
       "<div>\n",
       "<style scoped>\n",
       "    .dataframe tbody tr th:only-of-type {\n",
       "        vertical-align: middle;\n",
       "    }\n",
       "\n",
       "    .dataframe tbody tr th {\n",
       "        vertical-align: top;\n",
       "    }\n",
       "\n",
       "    .dataframe thead th {\n",
       "        text-align: right;\n",
       "    }\n",
       "</style>\n",
       "<table border=\"1\" class=\"dataframe\">\n",
       "  <thead>\n",
       "    <tr style=\"text-align: right;\">\n",
       "      <th></th>\n",
       "      <th>title_id</th>\n",
       "      <th>title</th>\n",
       "    </tr>\n",
       "  </thead>\n",
       "  <tbody>\n",
       "    <tr>\n",
       "      <th>0</th>\n",
       "      <td>s0001</td>\n",
       "      <td>Staff</td>\n",
       "    </tr>\n",
       "    <tr>\n",
       "      <th>1</th>\n",
       "      <td>s0002</td>\n",
       "      <td>Senior Staff</td>\n",
       "    </tr>\n",
       "    <tr>\n",
       "      <th>2</th>\n",
       "      <td>e0001</td>\n",
       "      <td>Assistant Engineer</td>\n",
       "    </tr>\n",
       "    <tr>\n",
       "      <th>3</th>\n",
       "      <td>e0002</td>\n",
       "      <td>Engineer</td>\n",
       "    </tr>\n",
       "    <tr>\n",
       "      <th>4</th>\n",
       "      <td>e0003</td>\n",
       "      <td>Senior Engineer</td>\n",
       "    </tr>\n",
       "    <tr>\n",
       "      <th>5</th>\n",
       "      <td>e0004</td>\n",
       "      <td>Technique Leader</td>\n",
       "    </tr>\n",
       "    <tr>\n",
       "      <th>6</th>\n",
       "      <td>m0001</td>\n",
       "      <td>Manager</td>\n",
       "    </tr>\n",
       "  </tbody>\n",
       "</table>\n",
       "</div>"
      ],
      "text/plain": [
       "  title_id               title\n",
       "0    s0001               Staff\n",
       "1    s0002        Senior Staff\n",
       "2    e0001  Assistant Engineer\n",
       "3    e0002            Engineer\n",
       "4    e0003     Senior Engineer\n",
       "5    e0004    Technique Leader\n",
       "6    m0001             Manager"
      ]
     },
     "execution_count": 5,
     "metadata": {},
     "output_type": "execute_result"
    }
   ],
   "source": [
    "# Read 'titles' table into a dataframe:\n",
    "titlesDF = pd.read_sql(\"select * from titles\", conn)\n",
    "titlesDF"
   ]
  },
  {
   "cell_type": "code",
   "execution_count": 6,
   "id": "bdff7f5f",
   "metadata": {},
   "outputs": [
    {
     "data": {
      "text/html": [
       "<div>\n",
       "<style scoped>\n",
       "    .dataframe tbody tr th:only-of-type {\n",
       "        vertical-align: middle;\n",
       "    }\n",
       "\n",
       "    .dataframe tbody tr th {\n",
       "        vertical-align: top;\n",
       "    }\n",
       "\n",
       "    .dataframe thead th {\n",
       "        text-align: right;\n",
       "    }\n",
       "</style>\n",
       "<table border=\"1\" class=\"dataframe\">\n",
       "  <thead>\n",
       "    <tr style=\"text-align: right;\">\n",
       "      <th></th>\n",
       "      <th>emp_no</th>\n",
       "      <th>emp_title_id</th>\n",
       "      <th>birth_date</th>\n",
       "      <th>first_name</th>\n",
       "      <th>last_name</th>\n",
       "      <th>sex</th>\n",
       "      <th>hire_date</th>\n",
       "    </tr>\n",
       "  </thead>\n",
       "  <tbody>\n",
       "    <tr>\n",
       "      <th>0</th>\n",
       "      <td>473302</td>\n",
       "      <td>s0001</td>\n",
       "      <td>1953-07-25</td>\n",
       "      <td>Hideyuki</td>\n",
       "      <td>Zallocco</td>\n",
       "      <td>M</td>\n",
       "      <td>1990-04-28</td>\n",
       "    </tr>\n",
       "    <tr>\n",
       "      <th>1</th>\n",
       "      <td>475053</td>\n",
       "      <td>e0002</td>\n",
       "      <td>1954-11-18</td>\n",
       "      <td>Byong</td>\n",
       "      <td>Delgrande</td>\n",
       "      <td>F</td>\n",
       "      <td>1991-09-07</td>\n",
       "    </tr>\n",
       "    <tr>\n",
       "      <th>2</th>\n",
       "      <td>57444</td>\n",
       "      <td>e0002</td>\n",
       "      <td>1958-01-30</td>\n",
       "      <td>Berry</td>\n",
       "      <td>Babb</td>\n",
       "      <td>F</td>\n",
       "      <td>1992-03-21</td>\n",
       "    </tr>\n",
       "    <tr>\n",
       "      <th>3</th>\n",
       "      <td>421786</td>\n",
       "      <td>s0001</td>\n",
       "      <td>1957-09-28</td>\n",
       "      <td>Xiong</td>\n",
       "      <td>Verhoeff</td>\n",
       "      <td>M</td>\n",
       "      <td>1987-11-26</td>\n",
       "    </tr>\n",
       "    <tr>\n",
       "      <th>4</th>\n",
       "      <td>282238</td>\n",
       "      <td>e0003</td>\n",
       "      <td>1952-10-28</td>\n",
       "      <td>Abdelkader</td>\n",
       "      <td>Baumann</td>\n",
       "      <td>F</td>\n",
       "      <td>1991-01-18</td>\n",
       "    </tr>\n",
       "  </tbody>\n",
       "</table>\n",
       "</div>"
      ],
      "text/plain": [
       "   emp_no emp_title_id  birth_date  first_name  last_name sex   hire_date\n",
       "0  473302        s0001  1953-07-25    Hideyuki   Zallocco   M  1990-04-28\n",
       "1  475053        e0002  1954-11-18       Byong  Delgrande   F  1991-09-07\n",
       "2   57444        e0002  1958-01-30       Berry       Babb   F  1992-03-21\n",
       "3  421786        s0001  1957-09-28       Xiong   Verhoeff   M  1987-11-26\n",
       "4  282238        e0003  1952-10-28  Abdelkader    Baumann   F  1991-01-18"
      ]
     },
     "execution_count": 6,
     "metadata": {},
     "output_type": "execute_result"
    }
   ],
   "source": [
    "# Read 'employees' table into a dataframe:\n",
    "employeesDF = pd.read_sql(\"select * from employees\", conn)\n",
    "employeesDF.head(5)"
   ]
  },
  {
   "cell_type": "code",
   "execution_count": 7,
   "id": "c33388d1",
   "metadata": {},
   "outputs": [
    {
     "data": {
      "text/html": [
       "<div>\n",
       "<style scoped>\n",
       "    .dataframe tbody tr th:only-of-type {\n",
       "        vertical-align: middle;\n",
       "    }\n",
       "\n",
       "    .dataframe tbody tr th {\n",
       "        vertical-align: top;\n",
       "    }\n",
       "\n",
       "    .dataframe thead th {\n",
       "        text-align: right;\n",
       "    }\n",
       "</style>\n",
       "<table border=\"1\" class=\"dataframe\">\n",
       "  <thead>\n",
       "    <tr style=\"text-align: right;\">\n",
       "      <th></th>\n",
       "      <th>emp_no</th>\n",
       "      <th>salary</th>\n",
       "    </tr>\n",
       "  </thead>\n",
       "  <tbody>\n",
       "    <tr>\n",
       "      <th>0</th>\n",
       "      <td>10001</td>\n",
       "      <td>60117</td>\n",
       "    </tr>\n",
       "    <tr>\n",
       "      <th>1</th>\n",
       "      <td>10002</td>\n",
       "      <td>65828</td>\n",
       "    </tr>\n",
       "    <tr>\n",
       "      <th>2</th>\n",
       "      <td>10003</td>\n",
       "      <td>40006</td>\n",
       "    </tr>\n",
       "    <tr>\n",
       "      <th>3</th>\n",
       "      <td>10004</td>\n",
       "      <td>40054</td>\n",
       "    </tr>\n",
       "    <tr>\n",
       "      <th>4</th>\n",
       "      <td>10005</td>\n",
       "      <td>78228</td>\n",
       "    </tr>\n",
       "  </tbody>\n",
       "</table>\n",
       "</div>"
      ],
      "text/plain": [
       "   emp_no  salary\n",
       "0   10001   60117\n",
       "1   10002   65828\n",
       "2   10003   40006\n",
       "3   10004   40054\n",
       "4   10005   78228"
      ]
     },
     "execution_count": 7,
     "metadata": {},
     "output_type": "execute_result"
    }
   ],
   "source": [
    "# Read 'salaries' table into a dataframe:\n",
    "salariesDF = pd.read_sql(\"select * from salaries\", conn)\n",
    "salariesDF.head(5)"
   ]
  },
  {
   "cell_type": "code",
   "execution_count": 8,
   "id": "80f2a2c5",
   "metadata": {},
   "outputs": [
    {
     "data": {
      "text/html": [
       "<div>\n",
       "<style scoped>\n",
       "    .dataframe tbody tr th:only-of-type {\n",
       "        vertical-align: middle;\n",
       "    }\n",
       "\n",
       "    .dataframe tbody tr th {\n",
       "        vertical-align: top;\n",
       "    }\n",
       "\n",
       "    .dataframe thead th {\n",
       "        text-align: right;\n",
       "    }\n",
       "</style>\n",
       "<table border=\"1\" class=\"dataframe\">\n",
       "  <thead>\n",
       "    <tr style=\"text-align: right;\">\n",
       "      <th></th>\n",
       "      <th>emp_no</th>\n",
       "      <th>title_id</th>\n",
       "      <th>birth_date</th>\n",
       "      <th>first_name</th>\n",
       "      <th>last_name</th>\n",
       "      <th>sex</th>\n",
       "      <th>hire_date</th>\n",
       "      <th>title</th>\n",
       "      <th>salary</th>\n",
       "    </tr>\n",
       "  </thead>\n",
       "  <tbody>\n",
       "    <tr>\n",
       "      <th>0</th>\n",
       "      <td>473302</td>\n",
       "      <td>s0001</td>\n",
       "      <td>1953-07-25</td>\n",
       "      <td>Hideyuki</td>\n",
       "      <td>Zallocco</td>\n",
       "      <td>M</td>\n",
       "      <td>1990-04-28</td>\n",
       "      <td>Staff</td>\n",
       "      <td>40000</td>\n",
       "    </tr>\n",
       "    <tr>\n",
       "      <th>1</th>\n",
       "      <td>421786</td>\n",
       "      <td>s0001</td>\n",
       "      <td>1957-09-28</td>\n",
       "      <td>Xiong</td>\n",
       "      <td>Verhoeff</td>\n",
       "      <td>M</td>\n",
       "      <td>1987-11-26</td>\n",
       "      <td>Staff</td>\n",
       "      <td>40000</td>\n",
       "    </tr>\n",
       "    <tr>\n",
       "      <th>2</th>\n",
       "      <td>273487</td>\n",
       "      <td>s0001</td>\n",
       "      <td>1957-04-14</td>\n",
       "      <td>Christoph</td>\n",
       "      <td>Parfitt</td>\n",
       "      <td>M</td>\n",
       "      <td>1991-06-28</td>\n",
       "      <td>Staff</td>\n",
       "      <td>56087</td>\n",
       "    </tr>\n",
       "    <tr>\n",
       "      <th>3</th>\n",
       "      <td>246449</td>\n",
       "      <td>s0001</td>\n",
       "      <td>1958-03-23</td>\n",
       "      <td>Subbu</td>\n",
       "      <td>Bultermann</td>\n",
       "      <td>F</td>\n",
       "      <td>1988-03-25</td>\n",
       "      <td>Staff</td>\n",
       "      <td>87084</td>\n",
       "    </tr>\n",
       "    <tr>\n",
       "      <th>4</th>\n",
       "      <td>48085</td>\n",
       "      <td>s0001</td>\n",
       "      <td>1964-01-19</td>\n",
       "      <td>Venkatesan</td>\n",
       "      <td>Gilg</td>\n",
       "      <td>M</td>\n",
       "      <td>1993-06-28</td>\n",
       "      <td>Staff</td>\n",
       "      <td>63016</td>\n",
       "    </tr>\n",
       "  </tbody>\n",
       "</table>\n",
       "</div>"
      ],
      "text/plain": [
       "   emp_no title_id  birth_date  first_name   last_name sex   hire_date  title  \\\n",
       "0  473302    s0001  1953-07-25    Hideyuki    Zallocco   M  1990-04-28  Staff   \n",
       "1  421786    s0001  1957-09-28       Xiong    Verhoeff   M  1987-11-26  Staff   \n",
       "2  273487    s0001  1957-04-14   Christoph     Parfitt   M  1991-06-28  Staff   \n",
       "3  246449    s0001  1958-03-23       Subbu  Bultermann   F  1988-03-25  Staff   \n",
       "4   48085    s0001  1964-01-19  Venkatesan        Gilg   M  1993-06-28  Staff   \n",
       "\n",
       "   salary  \n",
       "0   40000  \n",
       "1   40000  \n",
       "2   56087  \n",
       "3   87084  \n",
       "4   63016  "
      ]
     },
     "execution_count": 8,
     "metadata": {},
     "output_type": "execute_result"
    }
   ],
   "source": [
    "# Merge all three dataframes into a single dataframe:\n",
    "employeesDF.rename(columns = {\"emp_title_id\":\"title_id\"}, inplace=True)\n",
    "employeesFullDF = pd.merge(employeesDF, titlesDF, how='inner', on='title_id')\n",
    "employeesFullDF = pd.merge(employeesFullDF, salariesDF, how='inner', on='emp_no')\n",
    "employeesFullDF.head()"
   ]
  },
  {
   "cell_type": "code",
   "execution_count": 9,
   "id": "2d225111",
   "metadata": {},
   "outputs": [
    {
     "data": {
      "image/png": "[encoded data removed]",
      "text/plain": [
       "<Figure size 432x288 with 1 Axes>"
      ]
     },
     "metadata": {
      "needs_background": "light"
     },
     "output_type": "display_data"
    }
   ],
   "source": [
    "# Plot a histogram of employees salary ranges:\n",
    "histogram1 = plt.hist(employeesFullDF[\"salary\"], bins=25)\n",
    "plt.xlabel(\"Salary Ranges\")\n",
    "plt.ylabel(\"Number of Employees in Each Range\")\n",
    "plt.title(\"Histogram of All Employees' Salaries\")\n",
    "plt.show()"
   ]
  },
  {
   "cell_type": "markdown",
   "id": "1eb72bdf",
   "metadata": {},
   "source": [
    "It seems unlikely that so many employees only earned the base salary of 40,000."
   ]
  },
  {
   "cell_type": "code",
   "execution_count": 10,
   "id": "45be3e78",
   "metadata": {},
   "outputs": [
    {
     "data": {
      "text/html": [
       "<div>\n",
       "<style scoped>\n",
       "    .dataframe tbody tr th:only-of-type {\n",
       "        vertical-align: middle;\n",
       "    }\n",
       "\n",
       "    .dataframe tbody tr th {\n",
       "        vertical-align: top;\n",
       "    }\n",
       "\n",
       "    .dataframe thead th {\n",
       "        text-align: right;\n",
       "    }\n",
       "</style>\n",
       "<table border=\"1\" class=\"dataframe\">\n",
       "  <thead>\n",
       "    <tr style=\"text-align: right;\">\n",
       "      <th></th>\n",
       "      <th>count</th>\n",
       "      <th>mean</th>\n",
       "      <th>std</th>\n",
       "      <th>min</th>\n",
       "      <th>25%</th>\n",
       "      <th>50%</th>\n",
       "      <th>75%</th>\n",
       "      <th>max</th>\n",
       "    </tr>\n",
       "    <tr>\n",
       "      <th>title</th>\n",
       "      <th></th>\n",
       "      <th></th>\n",
       "      <th></th>\n",
       "      <th></th>\n",
       "      <th></th>\n",
       "      <th></th>\n",
       "      <th></th>\n",
       "      <th></th>\n",
       "    </tr>\n",
       "  </thead>\n",
       "  <tbody>\n",
       "    <tr>\n",
       "      <th>Assistant Engineer</th>\n",
       "      <td>5835.0</td>\n",
       "      <td>48564.434447</td>\n",
       "      <td>10281.259519</td>\n",
       "      <td>40000.0</td>\n",
       "      <td>40000.00</td>\n",
       "      <td>44588.0</td>\n",
       "      <td>54671.50</td>\n",
       "      <td>99683.0</td>\n",
       "    </tr>\n",
       "    <tr>\n",
       "      <th>Engineer</th>\n",
       "      <td>47303.0</td>\n",
       "      <td>48535.336511</td>\n",
       "      <td>10340.663069</td>\n",
       "      <td>40000.0</td>\n",
       "      <td>40000.00</td>\n",
       "      <td>44478.0</td>\n",
       "      <td>54645.00</td>\n",
       "      <td>100683.0</td>\n",
       "    </tr>\n",
       "    <tr>\n",
       "      <th>Manager</th>\n",
       "      <td>24.0</td>\n",
       "      <td>51531.041667</td>\n",
       "      <td>12068.128725</td>\n",
       "      <td>40000.0</td>\n",
       "      <td>40000.00</td>\n",
       "      <td>48458.5</td>\n",
       "      <td>60358.75</td>\n",
       "      <td>72446.0</td>\n",
       "    </tr>\n",
       "    <tr>\n",
       "      <th>Senior Engineer</th>\n",
       "      <td>97747.0</td>\n",
       "      <td>48506.799871</td>\n",
       "      <td>10252.482143</td>\n",
       "      <td>40000.0</td>\n",
       "      <td>40000.00</td>\n",
       "      <td>44502.0</td>\n",
       "      <td>54605.00</td>\n",
       "      <td>110449.0</td>\n",
       "    </tr>\n",
       "    <tr>\n",
       "      <th>Senior Staff</th>\n",
       "      <td>26583.0</td>\n",
       "      <td>58550.172704</td>\n",
       "      <td>16473.869221</td>\n",
       "      <td>40000.0</td>\n",
       "      <td>41242.00</td>\n",
       "      <td>56585.0</td>\n",
       "      <td>70632.50</td>\n",
       "      <td>127238.0</td>\n",
       "    </tr>\n",
       "    <tr>\n",
       "      <th>Staff</th>\n",
       "      <td>107384.0</td>\n",
       "      <td>58465.382850</td>\n",
       "      <td>16499.506888</td>\n",
       "      <td>40000.0</td>\n",
       "      <td>41012.75</td>\n",
       "      <td>56407.0</td>\n",
       "      <td>70530.50</td>\n",
       "      <td>129492.0</td>\n",
       "    </tr>\n",
       "    <tr>\n",
       "      <th>Technique Leader</th>\n",
       "      <td>15148.0</td>\n",
       "      <td>48582.896092</td>\n",
       "      <td>10315.342481</td>\n",
       "      <td>40000.0</td>\n",
       "      <td>40000.00</td>\n",
       "      <td>44546.0</td>\n",
       "      <td>54960.25</td>\n",
       "      <td>104065.0</td>\n",
       "    </tr>\n",
       "  </tbody>\n",
       "</table>\n",
       "</div>"
      ],
      "text/plain": [
       "                       count          mean           std      min       25%  \\\n",
       "title                                                                         \n",
       "Assistant Engineer    5835.0  48564.434447  10281.259519  40000.0  40000.00   \n",
       "Engineer             47303.0  48535.336511  10340.663069  40000.0  40000.00   \n",
       "Manager                 24.0  51531.041667  12068.128725  40000.0  40000.00   \n",
       "Senior Engineer      97747.0  48506.799871  10252.482143  40000.0  40000.00   \n",
       "Senior Staff         26583.0  58550.172704  16473.869221  40000.0  41242.00   \n",
       "Staff               107384.0  58465.382850  16499.506888  40000.0  41012.75   \n",
       "Technique Leader     15148.0  48582.896092  10315.342481  40000.0  40000.00   \n",
       "\n",
       "                        50%       75%       max  \n",
       "title                                            \n",
       "Assistant Engineer  44588.0  54671.50   99683.0  \n",
       "Engineer            44478.0  54645.00  100683.0  \n",
       "Manager             48458.5  60358.75   72446.0  \n",
       "Senior Engineer     44502.0  54605.00  110449.0  \n",
       "Senior Staff        56585.0  70632.50  127238.0  \n",
       "Staff               56407.0  70530.50  129492.0  \n",
       "Technique Leader    44546.0  54960.25  104065.0  "
      ]
     },
     "execution_count": 10,
     "metadata": {},
     "output_type": "execute_result"
    }
   ],
   "source": [
    "# Display summary statistics for employee salaries for each job title:\n",
    "avgsalaryDF = employeesFullDF.groupby(\"title\").describe()[\"salary\"]\n",
    "avgsalaryDF"
   ]
  },
  {
   "cell_type": "markdown",
   "id": "07762cb6",
   "metadata": {},
   "source": [
    "It seems unlikely that only 24 managers could oversee 300,000 employees.<br>\n",
    "It also seems unlikely that the highest paid manager made significantly less than the highest paid person in the other job types."
   ]
  },
  {
   "cell_type": "code",
   "execution_count": 11,
   "id": "ef9e7f47",
   "metadata": {},
   "outputs": [
    {
     "data": {
      "image/png": "[encoded data removed]",
      "text/plain": [
       "<Figure size 432x288 with 1 Axes>"
      ]
     },
     "metadata": {
      "needs_background": "light"
     },
     "output_type": "display_data"
    }
   ],
   "source": [
    "# Diplay a box & whisker diagram of salaries for each job title:\n",
    "salariesbytype = []\n",
    "for jobtype in avgsalaryDF.index:\n",
    "    salariesbytype.append(employeesFullDF.loc[employeesFullDF[\"title\"]==jobtype, \"salary\"])\n",
    "    \n",
    "boxplot = plt.boxplot(salariesbytype, labels=avgsalaryDF.index, flierprops={\"markerfacecolor\": \"red\"})\n",
    "plt.title(\"Comparision of Salaries by Job Title\")\n",
    "plt.xlabel(\"Job Title\")\n",
    "plt.ylabel(\"Salary\")\n",
    "plt.xticks(rotation=90)\n",
    "plt.show()"
   ]
  },
  {
   "cell_type": "code",
   "execution_count": 12,
   "id": "19b626e7",
   "metadata": {},
   "outputs": [
    {
     "data": {
      "image/png": "[encoded data removed]",
      "text/plain": [
       "<Figure size 432x288 with 1 Axes>"
      ]
     },
     "metadata": {
      "needs_background": "light"
     },
     "output_type": "display_data"
    }
   ],
   "source": [
    "# Display a bar chart for average salary for each job title:\n",
    "barchart1 = plt.bar(avgsalaryDF.index, avgsalaryDF[\"mean\"])\n",
    "plt.xticks(rotation=90)\n",
    "plt.title(\"Average Salary by Job Title\")\n",
    "plt.xlabel(\"Job Title\")\n",
    "plt.ylabel(\"Salary\")\n",
    "plt.show()"
   ]
  },
  {
   "cell_type": "code",
   "execution_count": 13,
   "id": "315bc5d1",
   "metadata": {},
   "outputs": [
    {
     "name": "stdout",
     "output_type": "stream",
     "text": [
      "April Foolsday\n"
     ]
    }
   ],
   "source": [
    "# Find the name of employee # 499942:\n",
    "firstname = employeesFullDF.loc[employeesFullDF[\"emp_no\"] == 499942, \"first_name\"].values[0]\n",
    "lastname = employeesFullDF.loc[employeesFullDF[\"emp_no\"] == 499942, \"last_name\"].values[0]\n",
    "print(f\"{firstname} {lastname}\")"
   ]
  }
 ],
 "metadata": {
  "kernelspec": {
   "display_name": "Python 3",
   "language": "python",
   "name": "python3"
  },
  "language_info": {
   "codemirror_mode": {
    "name": "ipython",
    "version": 3
   },
   "file_extension": ".py",
   "mimetype": "text/x-python",
   "name": "python",
   "nbconvert_exporter": "python",
   "pygments_lexer": "ipython3",
   "version": "3.8.8"
  }
 },
 "nbformat": 4,
 "nbformat_minor": 5
}
